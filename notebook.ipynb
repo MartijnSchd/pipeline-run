{
 "cells": [
  {
   "cell_type": "code",
   "execution_count": 1,
   "metadata": {},
   "outputs": [],
   "source": [
    "import mlflow\n",
    "import mlflow.sklearn\n",
    "from sklearn.datasets import load_iris\n",
    "from sklearn.linear_model import LogisticRegression\n",
    "from sklearn.model_selection import train_test_split\n",
    "from mlflow.models.signature import infer_signature"
   ]
  },
  {
   "cell_type": "code",
   "execution_count": 6,
   "metadata": {},
   "outputs": [
    {
     "name": "stdout",
     "output_type": "stream",
     "text": [
      "['setosa' 'versicolor' 'virginica']\n"
     ]
    }
   ],
   "source": [
    "iris = load_iris()\n",
    "X = iris.data\n",
    "y = iris.target\n",
    "print(iris.target_names)"
   ]
  },
  {
   "cell_type": "code",
   "execution_count": 7,
   "metadata": {},
   "outputs": [
    {
     "name": "stdout",
     "output_type": "stream",
     "text": [
      "['sepal length (cm)', 'sepal width (cm)', 'petal length (cm)', 'petal width (cm)']\n"
     ]
    }
   ],
   "source": [
    "print(iris.feature_names)"
   ]
  },
  {
   "cell_type": "code",
   "execution_count": 4,
   "metadata": {},
   "outputs": [
    {
     "name": "stdout",
     "output_type": "stream",
     "text": [
      "<class 'numpy.ndarray'>\n",
      "(150, 4)\n"
     ]
    }
   ],
   "source": [
    "print(type(X))\n",
    "print(X.shape)"
   ]
  },
  {
   "cell_type": "code",
   "execution_count": null,
   "metadata": {},
   "outputs": [],
   "source": [
    "\n",
    "def main():\n",
    "    with mlflow.start_run():\n",
    "        # Set a description for the run\n",
    "        mlflow.set_tag(\"description\", \"Logistic Regression model for the Iris dataset\")\n",
    "\n",
    "        # Set custom tags\n",
    "        mlflow.set_tag(\"model_type\", \"Logistic Regression\")\n",
    "        mlflow.set_tag(\"dataset\", \"Iris\")\n",
    "        # Load the data\n",
    "        iris = load_iris()\n",
    "        X = iris.data\n",
    "        y = iris.target\n",
    "\n",
    "        # Split the data\n",
    "        X_train, X_test, y_train, y_test = train_test_split(X, y, test_size=0.2)\n",
    "\n",
    "        # Train the model\n",
    "        model = LogisticRegression(max_iter=200)\n",
    "        model.fit(X_train, y_train)\n",
    "\n",
    "        # Evaluate the model\n",
    "        score = model.score(X_test, y_test)\n",
    "        print(f\"Model accuracy: {score}\")\n",
    "\n",
    "        # Log parameters and metrics\n",
    "        mlflow.log_param('max_iter', 200)\n",
    "        mlflow.log_metric('accuracy', score)\n",
    "\n",
    "        #  Log and register the model with input example and signature\n",
    "        input_example = X_test[:5]  # A few example inputs\n",
    "        signature = infer_signature(X_test, model.predict(X_test))\n",
    "        \n",
    "        mlflow.sklearn.log_model(model, 'model', signature=signature, input_example=input_example)\n",
    "        mlflow.register_model(f'runs:/{mlflow.active_run().info.run_id}/model', 'IrisClassifier')\n",
    "\n",
    "if __name__ == \"__main__\":\n",
    "    main()\n"
   ]
  },
  {
   "cell_type": "code",
   "execution_count": 4,
   "metadata": {},
   "outputs": [
    {
     "name": "stdout",
     "output_type": "stream",
     "text": [
      "Model accuracy: 0.9333333333333333\n"
     ]
    },
    {
     "name": "stderr",
     "output_type": "stream",
     "text": [
      "Registered model 'IrisClassifier' already exists. Creating a new version of this model...\n",
      "Created version '3' of model 'IrisClassifier'.\n"
     ]
    }
   ],
   "source": [
    "import mlflow\n",
    "import mlflow.sklearn\n",
    "from mlflow.tracking import MlflowClient\n",
    "from sklearn.datasets import load_iris\n",
    "from sklearn.linear_model import LogisticRegression\n",
    "from sklearn.model_selection import train_test_split\n",
    "from mlflow.models.signature import infer_signature\n",
    "\n",
    "def main():\n",
    "    with mlflow.start_run():\n",
    "        # Load the data\n",
    "        iris = load_iris()\n",
    "        X = iris.data\n",
    "        y = iris.target\n",
    "\n",
    "        # Split the data\n",
    "        X_train, X_test, y_train, y_test = train_test_split(X, y, test_size=0.2)\n",
    "\n",
    "        # Train the model\n",
    "        model = LogisticRegression(max_iter=200)\n",
    "        model.fit(X_train, y_train)\n",
    "\n",
    "        # Evaluate the model\n",
    "        score = model.score(X_test, y_test)\n",
    "        print(f\"Model accuracy: {score}\")\n",
    "\n",
    "        # Log parameters and metrics\n",
    "        mlflow.log_param('max_iter', 200)\n",
    "        mlflow.log_metric('accuracy', score)\n",
    "\n",
    "        # Log and register the model with input example and signature\n",
    "        input_example = X_test[:5]  # A few example inputs\n",
    "        signature = infer_signature(X_test, model.predict(X_test))\n",
    "        \n",
    "        mlflow.sklearn.log_model(model, 'model', signature=signature, input_example=input_example)\n",
    "        \n",
    "        # Register the model\n",
    "        model_uri = f'runs:/{mlflow.active_run().info.run_id}/model'\n",
    "        registered_model = mlflow.register_model(model_uri, 'IrisClassifier')\n",
    "\n",
    "    # Initialize the MLflow Client\n",
    "    client = MlflowClient()\n",
    "\n",
    "    # Update the description of the model version\n",
    "    client.update_model_version(\n",
    "        name=\"IrisClassifier\", \n",
    "        version=registered_model.version, \n",
    "        description=\"Logistic Regression model trained on the Iris dataset\"\n",
    "    )\n",
    "\n",
    "    # Set tags for the model version\n",
    "    client.set_model_version_tag(\"IrisClassifier\", registered_model.version, \"model_type\", \"Logistic Regression\")\n",
    "    client.set_model_version_tag(\"IrisClassifier\", registered_model.version, \"dataset\", \"Iris\")\n",
    "    client.set_model_version_tag(\"IrisClassifier\", registered_model.version, \"experiment_version\", \"1.0\")\n",
    "\n",
    "if __name__ == \"__main__\":\n",
    "    main()\n"
   ]
  },
  {
   "cell_type": "code",
   "execution_count": null,
   "metadata": {},
   "outputs": [],
   "source": []
  },
  {
   "cell_type": "code",
   "execution_count": null,
   "metadata": {},
   "outputs": [],
   "source": []
  },
  {
   "cell_type": "code",
   "execution_count": null,
   "metadata": {},
   "outputs": [],
   "source": []
  }
 ],
 "metadata": {
  "kernelspec": {
   "display_name": "venv",
   "language": "python",
   "name": "python3"
  },
  "language_info": {
   "codemirror_mode": {
    "name": "ipython",
    "version": 3
   },
   "file_extension": ".py",
   "mimetype": "text/x-python",
   "name": "python",
   "nbconvert_exporter": "python",
   "pygments_lexer": "ipython3",
   "version": "3.12.5"
  }
 },
 "nbformat": 4,
 "nbformat_minor": 2
}
